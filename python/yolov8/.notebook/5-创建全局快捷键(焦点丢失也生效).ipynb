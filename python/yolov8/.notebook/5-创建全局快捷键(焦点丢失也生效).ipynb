{
 "cells": [
  {
   "cell_type": "code",
   "execution_count": null,
   "id": "initial_id",
   "metadata": {
    "collapsed": true
   },
   "outputs": [],
   "source": [
    "# https://www.cnblogs.com/ksxh/p/14074838.html\n",
    "# pip install system_hotkey\n",
    "\n",
    "\n",
    "from system_hotkey import SystemHotkey\n",
    "\n",
    "hk = SystemHotkey()\n",
    "hk.register(('control', 'shift', 'h'), callback=lambda x: print(\"Easy!\"))"
   ]
  }
 ],
 "metadata": {
  "kernelspec": {
   "display_name": "Python 3",
   "language": "python",
   "name": "python3"
  },
  "language_info": {
   "codemirror_mode": {
    "name": "ipython",
    "version": 2
   },
   "file_extension": ".py",
   "mimetype": "text/x-python",
   "name": "python",
   "nbconvert_exporter": "python",
   "pygments_lexer": "ipython2",
   "version": "2.7.6"
  }
 },
 "nbformat": 4,
 "nbformat_minor": 5
}
