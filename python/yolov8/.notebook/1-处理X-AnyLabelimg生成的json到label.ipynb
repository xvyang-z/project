{
 "cells": [
  {
   "cell_type": "code",
   "id": "c54e3859af9329dd",
   "metadata": {
    "collapsed": false,
    "ExecuteTime": {
     "end_time": "2024-05-13T12:53:13.638694Z",
     "start_time": "2024-05-13T12:53:13.604786Z"
    }
   },
   "source": [
    "import json\n",
    "import os\n",
    "from pathlib import Path\n",
    "import shutil\n",
    "\n",
    "src_data_set_path = Path('D:/tmp/录屏截图')\n",
    "\n",
    "dst_data_set_path = Path('D:/.dataset/overwatch')\n",
    "dst_images_path = dst_data_set_path / 'images' / 'train3'\n",
    "dst_labels_path = dst_data_set_path / 'labels' / 'train3'\n",
    "\n",
    "os.makedirs(dst_images_path)\n",
    "os.makedirs(dst_labels_path)"
   ],
   "outputs": [],
   "execution_count": 5
  },
  {
   "cell_type": "code",
   "source": [
    "def XAnyLabelimg_to_label(json_file_path: Path) -> list[tuple]:\n",
    "    \"\"\"\n",
    "    根据X-AnyLabelimg生成的json文件，生成yolo需要的数据格式 [(类别名, 中心x, 中心y, 宽度, 高度)]\n",
    "    \"\"\"\n",
    "    with open(json_file_path) as f:\n",
    "        json_data = json.load(f)\n",
    "    \n",
    "    img_height = json_data['imageHeight']\n",
    "    img_width = json_data['imageWidth']\n",
    "    \n",
    "    result = []\n",
    "    for shape in json_data['shapes']:\n",
    "        label = shape['label']\n",
    "        \n",
    "        # lt-------rt\n",
    "        #  |       |\n",
    "        # lb-------rb\n",
    "        lt, rt, rb, lb = shape['points']\n",
    "        \n",
    "        center_x = (lt[0] + rt[0]) / 2 / img_width\n",
    "        center_y = (lt[1] + lb[1]) / 2 / img_height\n",
    "        w = (rt[0] - lt[0]) / img_width\n",
    "        h = (lb[1] - lt[1]) / img_height\n",
    "        \n",
    "        result.append((label, center_x, center_y, w, h))\n",
    "    \n",
    "    return result\n",
    "        \n",
    "# XAnyLabelimg_to_label(Path(r'D:\\.dataset\\ovwatch\\录制_2024_05_08_17_01_39_898.mp4_000243.367.json'))"
   ],
   "metadata": {
    "collapsed": false,
    "ExecuteTime": {
     "end_time": "2024-05-13T12:53:14.305965Z",
     "start_time": "2024-05-13T12:53:14.290010Z"
    }
   },
   "id": "8f10c700d6c40759",
   "outputs": [],
   "execution_count": 6
  },
  {
   "cell_type": "code",
   "source": [
    "def create_labels_file():\n",
    "    \"\"\"\n",
    "    根据源文件夹中的所有 json 文件的信息，创建 label 文件\n",
    "    :return: \n",
    "    \"\"\"    \n",
    "    # 取出源文件夹中的所有json\n",
    "    all_file = os.listdir(src_data_set_path)\n",
    "    all_json_file = [i for i in all_file if i.endswith('json')]\n",
    "    \n",
    "    for i in all_json_file:\n",
    "        json_file_name = i.replace('.json', '.txt')\n",
    "        json_file_path = src_data_set_path / i\n",
    "        \n",
    "        result = XAnyLabelimg_to_label(json_file_path)\n",
    "        \n",
    "        txt = '\\n'.join([' '.join(map(str, i)) for i in result])\n",
    "        \n",
    "        with open(dst_labels_path / json_file_name, 'w') as f:\n",
    "            f.write(txt)\n",
    "        \n",
    "create_labels_file()"
   ],
   "metadata": {
    "collapsed": true,
    "ExecuteTime": {
     "end_time": "2024-05-13T12:53:15.559161Z",
     "start_time": "2024-05-13T12:53:15.216143Z"
    }
   },
   "id": "initial_id",
   "outputs": [],
   "execution_count": 7
  },
  {
   "cell_type": "code",
   "source": [
    "def copy_img_by_label():\n",
    "    \"\"\"\n",
    "    根据上一步生成的label文件名去源文件夹中取出对应的图片复制到目标文件夹\n",
    "    \"\"\"\n",
    "    for i in os.listdir(dst_labels_path):\n",
    "        label_file_name = i.replace('.txt', '')\n",
    "        shutil.copy(src_data_set_path / f'{label_file_name}.jpg', dst_images_path / f'{label_file_name}.jpg')\n",
    "\n",
    "copy_img_by_label()"
   ],
   "metadata": {
    "collapsed": false,
    "ExecuteTime": {
     "end_time": "2024-05-13T12:53:17.028146Z",
     "start_time": "2024-05-13T12:53:16.248062Z"
    }
   },
   "id": "a0ffd862a7be7038",
   "outputs": [],
   "execution_count": 8
  },
  {
   "cell_type": "markdown",
   "source": [],
   "metadata": {
    "collapsed": false
   },
   "id": "87d2a08c1a4e0222"
  }
 ],
 "metadata": {
  "kernelspec": {
   "display_name": "Python 3",
   "language": "python",
   "name": "python3"
  },
  "language_info": {
   "codemirror_mode": {
    "name": "ipython",
    "version": 2
   },
   "file_extension": ".py",
   "mimetype": "text/x-python",
   "name": "python",
   "nbconvert_exporter": "python",
   "pygments_lexer": "ipython2",
   "version": "2.7.6"
  }
 },
 "nbformat": 4,
 "nbformat_minor": 5
}
