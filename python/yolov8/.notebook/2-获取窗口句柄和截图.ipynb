{
 "cells": [
  {
   "cell_type": "code",
   "execution_count": null,
   "id": "initial_id",
   "metadata": {
    "collapsed": true
   },
   "outputs": [],
   "source": [
    "## 获取所有运行的句柄名"
   ]
  },
  {
   "cell_type": "code",
   "source": [
    "import win32gui\n",
    "\n",
    "hwnd_title = dict()\n",
    "\n",
    "def get_all_hwnd(hwnd, mouse):\n",
    "    if win32gui.IsWindow(hwnd) and win32gui.IsWindowEnabled(hwnd) and win32gui.IsWindowVisible(hwnd):\n",
    "        hwnd_title.update({hwnd:win32gui.GetWindowText(hwnd)})\n",
    " \n",
    "win32gui.EnumWindows(get_all_hwnd, 0)\n",
    "for h,t in hwnd_title.items():\n",
    "    if t != \"\":\n",
    "        print(h, t)"
   ],
   "metadata": {
    "collapsed": false,
    "ExecuteTime": {
     "end_time": "2024-05-11T12:55:38.811496Z",
     "start_time": "2024-05-11T12:55:38.793545Z"
    }
   },
   "id": "c2259ea39acafc5a",
   "outputs": [
    {
     "name": "stdout",
     "output_type": "stream",
     "text": [
      "1640652 yolov8 – D:\\A_study\\project\\python\\yolov8\\.notebook\\2-获取窗口句柄和截图.ipynb\n",
      "6162430 录制_2024_05_09_21_07_25_686.mp4 - PotPlayer\n",
      "8062356 守望先锋-识别\n",
      "1115702 ChatGPT - Google Chrome\n",
      "2034968 OurPlay PC版\n",
      "1574788 设置\n",
      "1903432 设置\n",
      "657880 tools\n",
      "16384316 任务管理器\n",
      "592202 Windows 输入体验\n",
      "132102 NVIDIA GeForce Overlay\n",
      "1771552 Program Manager\n"
     ]
    }
   ],
   "execution_count": 1
  },
  {
   "cell_type": "code",
   "outputs": [],
   "source": [
    "## 截图\n",
    "\n",
    "    # 测试下来 pyqt 和 win32 速度差不多, 截图单个窗口（全屏状态）速度 10-20ms, 1/4屏 5ms左右\n",
    "    \n",
    "    # Python获取屏幕截图的4种方法 https://zhuanlan.zhihu.com/p/665240480\n",
    "    # python调用win32接口进行截图 https://www.cnblogs.com/enumx/p/12337132.html\n",
    "    \n",
    "    # 使用 pyqt 截图后将 QImage 类型转换成 ndarray\n",
    "    # https://deepinout.com/numpy/numpy-questions/700_numpy_qimage_to_numpy_array_using_pyside.html"
   ],
   "metadata": {
    "collapsed": false,
    "ExecuteTime": {
     "end_time": "2024-05-09T08:06:07.914633Z",
     "start_time": "2024-05-09T08:06:07.909541Z"
    }
   },
   "id": "d5347d503fef123f",
   "execution_count": 1
  },
  {
   "cell_type": "code",
   "source": [
    "#!!!!!!!!!!!!!!!!!!!!!!!!!!!!!!!!!!! 在 jupyter 中执行有问题, 要在py文件中执行\n",
    "import time\n",
    "\n",
    "from PyQt5.QtWidgets import QApplication\n",
    "from PyQt5.QtGui import QImage\n",
    "import win32gui\n",
    "import sys\n",
    "import numpy as np\n",
    "from matplotlib import pyplot\n",
    "\n",
    "# 未用到, 但要有, 这行大概执行100ms, 可以放在截图函数外部\n",
    "app = QApplication(sys.argv)\n",
    "\n",
    "def test_pyqt():\n",
    "\n",
    "    # 获取窗口的句柄，注意窗口不能最小化\n",
    "    hwnd = win32gui.FindWindow(None, '守望先锋')\n",
    "\n",
    "    screen = app.primaryScreen()\n",
    "    qimage = screen.grabWindow(hwnd).toImage()\n",
    "\n",
    "    qimage = qimage.convertToFormat(QImage.Format.Format_RGB888)\n",
    "    width = qimage.width()\n",
    "    height = qimage.height()\n",
    "\n",
    "    buffer = qimage.constBits()\n",
    "    buffer.setsize(height * width * 3)\n",
    "    arr = np.frombuffer(buffer, dtype=np.uint8).reshape((height, width, 3))\n",
    "    pyplot.imshow(arr)\n",
    "    pyplot.show()\n",
    "\n",
    "\n",
    "t1 = time.time()\n",
    "test_pyqt()\n",
    "print(time.time() - t1)\n",
    "\n",
    "#!!!!!!!!!!!!!!!!!!!!!!!!!!!!!!!!!!! 在 jupyter 中执行有问题, 要在py文件中执行"
   ],
   "metadata": {
    "collapsed": false,
    "ExecuteTime": {
     "end_time": "2024-05-10T14:19:23.156103Z",
     "start_time": "2024-05-10T14:19:23.102506Z"
    }
   },
   "id": "73955d6df49d346d",
   "outputs": [
    {
     "ename": "AttributeError",
     "evalue": "'NoneType' object has no attribute 'grabWindow'",
     "output_type": "error",
     "traceback": [
      "\u001B[1;31m---------------------------------------------------------------------------\u001B[0m",
      "\u001B[1;31mAttributeError\u001B[0m                            Traceback (most recent call last)",
      "Cell \u001B[1;32mIn[5], line 34\u001B[0m\n\u001B[0;32m     30\u001B[0m     pyplot\u001B[38;5;241m.\u001B[39mshow()\n\u001B[0;32m     33\u001B[0m t1 \u001B[38;5;241m=\u001B[39m time\u001B[38;5;241m.\u001B[39mtime()\n\u001B[1;32m---> 34\u001B[0m \u001B[43mtest_pyqt\u001B[49m\u001B[43m(\u001B[49m\u001B[43m)\u001B[49m\n\u001B[0;32m     35\u001B[0m \u001B[38;5;28mprint\u001B[39m(time\u001B[38;5;241m.\u001B[39mtime() \u001B[38;5;241m-\u001B[39m t1)\n",
      "Cell \u001B[1;32mIn[5], line 20\u001B[0m, in \u001B[0;36mtest_pyqt\u001B[1;34m()\u001B[0m\n\u001B[0;32m     17\u001B[0m hwnd \u001B[38;5;241m=\u001B[39m win32gui\u001B[38;5;241m.\u001B[39mFindWindow(\u001B[38;5;28;01mNone\u001B[39;00m, \u001B[38;5;124m'\u001B[39m\u001B[38;5;124m设置\u001B[39m\u001B[38;5;124m'\u001B[39m)\n\u001B[0;32m     19\u001B[0m screen \u001B[38;5;241m=\u001B[39m app\u001B[38;5;241m.\u001B[39mprimaryScreen()\n\u001B[1;32m---> 20\u001B[0m qimage \u001B[38;5;241m=\u001B[39m \u001B[43mscreen\u001B[49m\u001B[38;5;241;43m.\u001B[39;49m\u001B[43mgrabWindow\u001B[49m(hwnd)\u001B[38;5;241m.\u001B[39mtoImage()\n\u001B[0;32m     22\u001B[0m qimage \u001B[38;5;241m=\u001B[39m qimage\u001B[38;5;241m.\u001B[39mconvertToFormat(QImage\u001B[38;5;241m.\u001B[39mFormat\u001B[38;5;241m.\u001B[39mFormat_RGB888)\n\u001B[0;32m     23\u001B[0m width \u001B[38;5;241m=\u001B[39m qimage\u001B[38;5;241m.\u001B[39mwidth()\n",
      "\u001B[1;31mAttributeError\u001B[0m: 'NoneType' object has no attribute 'grabWindow'"
     ]
    }
   ],
   "execution_count": 5
  },
  {
   "cell_type": "code",
   "source": [
    "import time\n",
    "\n",
    "import win32gui, win32ui, win32con\n",
    "import cv2\n",
    "import numpy\n",
    "\n",
    "\n",
    "def test_win32_screenshot():\n",
    "    # 获取窗口的句柄，注意窗口不能最小化\n",
    "    hWnd = win32gui.FindWindow(None, \"守望先锋\")\n",
    "    # 获取句柄窗口的大小信息\n",
    "    left, top, right, bot = win32gui.GetWindowRect(hWnd)\n",
    "    width = right - left\n",
    "    height = bot - top\n",
    "    # 返回句柄窗口的设备环境，覆盖整个窗口，包括非客户区，标题栏，菜单，边框\n",
    "    hWndDC = win32gui.GetWindowDC(hWnd)\n",
    "    # 创建设备描述表\n",
    "    mfcDC = win32ui.CreateDCFromHandle(hWndDC)\n",
    "    # 创建内存设备描述表\n",
    "    saveDC = mfcDC.CreateCompatibleDC()\n",
    "    # 创建位图对象准备保存图片\n",
    "    saveBitMap = win32ui.CreateBitmap()\n",
    "    # 为bitmap开辟存储空间\n",
    "    saveBitMap.CreateCompatibleBitmap(mfcDC, width, height)\n",
    "    # 将截图保存到saveBitMap中\n",
    "    saveDC.SelectObject(saveBitMap)\n",
    "    # 保存bitmap到内存设备描述表\n",
    "    saveDC.BitBlt((0, 0), (width, height), mfcDC, (0, 0), win32con.SRCCOPY)\n",
    "\n",
    "    signedIntsArray = saveBitMap.GetBitmapBits(True)\n",
    "\n",
    "    # 内存释放\n",
    "    win32gui.DeleteObject(saveBitMap.GetHandle())\n",
    "    saveDC.DeleteDC()\n",
    "    mfcDC.DeleteDC()\n",
    "    win32gui.ReleaseDC(hWnd, hWndDC)\n",
    "\n",
    "    im_opencv = numpy.frombuffer(signedIntsArray, dtype='uint8')\n",
    "\n",
    "    im_opencv.shape = (height, width, 4)\n",
    "    cv2.cvtColor(im_opencv, cv2.COLOR_BGRA2RGB)\n",
    "\n",
    "    # # cv2.imwrite(\"im_opencv.jpg\", im_opencv, [int(cv2.IMWRITE_JPEG_QUALITY), 100])  # 保存\n",
    "    cv2.namedWindow('im_opencv')  # 命名窗口\n",
    "    cv2.imshow(\"im_opencv\", im_opencv)  # 显示\n",
    "    cv2.waitKey(0)\n",
    "    cv2.destroyAllWindows()\n",
    "\n",
    "\n",
    "t1 = time.time()\n",
    "test_win32_screenshot()\n",
    "print(time.time() - t1)\n"
   ],
   "metadata": {
    "collapsed": false,
    "ExecuteTime": {
     "end_time": "2024-05-10T14:20:30.384690Z",
     "start_time": "2024-05-10T14:20:30.271490Z"
    }
   },
   "id": "5b86faa2bf6413e5",
   "outputs": [
    {
     "ename": "error",
     "evalue": "(1400, 'GetWindowRect', '无效的窗口句柄。')",
     "output_type": "error",
     "traceback": [
      "\u001B[1;31m---------------------------------------------------------------------------\u001B[0m",
      "\u001B[1;31merror\u001B[0m                                     Traceback (most recent call last)",
      "Cell \u001B[1;32mIn[6], line 51\u001B[0m\n\u001B[0;32m     47\u001B[0m     cv2\u001B[38;5;241m.\u001B[39mdestroyAllWindows()\n\u001B[0;32m     50\u001B[0m t1 \u001B[38;5;241m=\u001B[39m time\u001B[38;5;241m.\u001B[39mtime()\n\u001B[1;32m---> 51\u001B[0m \u001B[43mtest_win32_screenshot\u001B[49m\u001B[43m(\u001B[49m\u001B[43m)\u001B[49m\n\u001B[0;32m     52\u001B[0m \u001B[38;5;28mprint\u001B[39m(time\u001B[38;5;241m.\u001B[39mtime() \u001B[38;5;241m-\u001B[39m t1)\n",
      "Cell \u001B[1;32mIn[6], line 12\u001B[0m, in \u001B[0;36mtest_win32_screenshot\u001B[1;34m()\u001B[0m\n\u001B[0;32m     10\u001B[0m hWnd \u001B[38;5;241m=\u001B[39m win32gui\u001B[38;5;241m.\u001B[39mFindWindow(\u001B[38;5;28;01mNone\u001B[39;00m, \u001B[38;5;124m\"\u001B[39m\u001B[38;5;124mNVIDIA 控制面板\u001B[39m\u001B[38;5;124m\"\u001B[39m)\n\u001B[0;32m     11\u001B[0m \u001B[38;5;66;03m# 获取句柄窗口的大小信息\u001B[39;00m\n\u001B[1;32m---> 12\u001B[0m left, top, right, bot \u001B[38;5;241m=\u001B[39m \u001B[43mwin32gui\u001B[49m\u001B[38;5;241;43m.\u001B[39;49m\u001B[43mGetWindowRect\u001B[49m\u001B[43m(\u001B[49m\u001B[43mhWnd\u001B[49m\u001B[43m)\u001B[49m\n\u001B[0;32m     13\u001B[0m width \u001B[38;5;241m=\u001B[39m right \u001B[38;5;241m-\u001B[39m left\n\u001B[0;32m     14\u001B[0m height \u001B[38;5;241m=\u001B[39m bot \u001B[38;5;241m-\u001B[39m top\n",
      "\u001B[1;31merror\u001B[0m: (1400, 'GetWindowRect', '无效的窗口句柄。')"
     ]
    }
   ],
   "execution_count": 6
  }
 ],
 "metadata": {
  "kernelspec": {
   "display_name": "Python 3",
   "language": "python",
   "name": "python3"
  },
  "language_info": {
   "codemirror_mode": {
    "name": "ipython",
    "version": 2
   },
   "file_extension": ".py",
   "mimetype": "text/x-python",
   "name": "python",
   "nbconvert_exporter": "python",
   "pygments_lexer": "ipython2",
   "version": "2.7.6"
  }
 },
 "nbformat": 4,
 "nbformat_minor": 5
}
