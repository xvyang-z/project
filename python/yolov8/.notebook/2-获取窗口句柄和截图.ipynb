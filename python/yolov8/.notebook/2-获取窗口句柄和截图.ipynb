{
 "cells": [
  {
   "cell_type": "code",
   "execution_count": null,
   "id": "initial_id",
   "metadata": {
    "collapsed": true
   },
   "outputs": [],
   "source": [
    "## 获取所有运行的句柄名"
   ]
  },
  {
   "cell_type": "code",
   "source": [
    "import win32gui\n",
    "\n",
    "hwnd_title = dict()\n",
    "\n",
    "def get_all_hwnd(hwnd, mouse):\n",
    "    if win32gui.IsWindow(hwnd) and win32gui.IsWindowEnabled(hwnd) and win32gui.IsWindowVisible(hwnd):\n",
    "        hwnd_title.update({hwnd:win32gui.GetWindowText(hwnd)})\n",
    " \n",
    "win32gui.EnumWindows(get_all_hwnd, 0)\n",
    "for h,t in hwnd_title.items():\n",
    "    if t != \"\":\n",
    "        print(h, t)"
   ],
   "metadata": {
    "collapsed": false,
    "ExecuteTime": {
     "end_time": "2024-05-13T13:46:42.322510Z",
     "start_time": "2024-05-13T13:46:42.303287Z"
    }
   },
   "id": "c2259ea39acafc5a",
   "outputs": [
    {
     "name": "stdout",
     "output_type": "stream",
     "text": [
      "19661620 python\n",
      "23203500 yolov8 – D:\\A_study\\project\\python\\yolov8\\.notebook\\2-获取窗口句柄和截图.ipynb\n",
      "1575706 守望先锋-识别\n",
      "1705402 守望先锋\n",
      "2034968 OurPlay PC版\n",
      "1706742 战网\n",
      "2100660 录屏\n",
      "2231294 任务管理器\n",
      "6689138 回收站\n",
      "4982834 Train - Ultralytics YOLOv8 Docs - Google Chrome\n",
      "1048856 tmp\n",
      "28577288 ChatGPT - Google Chrome\n",
      "593908 Alienware Command Center\n",
      "2492372 Alienware Command Center\n",
      "593632 OS (C:)\n",
      "1115702 获取屏幕大小 - Google Chrome\n",
      "1574788 设置\n",
      "1903432 设置\n",
      "592202 Windows 输入体验\n",
      "132102 NVIDIA GeForce Overlay\n",
      "1771552 Program Manager\n"
     ]
    }
   ],
   "execution_count": 2
  },
  {
   "cell_type": "code",
   "source": [
    "## 截图\n",
    "\n",
    "    # 测试下来 pyqt 和 win32 速度差不多, 截图单个窗口（全屏状态）速度 10-20ms, 1/4屏 5ms左右\n",
    "    \n",
    "    # Python获取屏幕截图的4种方法 https://zhuanlan.zhihu.com/p/665240480\n",
    "    # python调用win32接口进行截图 https://www.cnblogs.com/enumx/p/12337132.html\n",
    "    \n",
    "    # 使用 pyqt 截图后将 QImage 类型转换成 ndarray\n",
    "    # https://deepinout.com/numpy/numpy-questions/700_numpy_qimage_to_numpy_array_using_pyside.html"
   ],
   "metadata": {
    "collapsed": false,
    "ExecuteTime": {
     "end_time": "2024-05-13T13:46:42.368604Z",
     "start_time": "2024-05-13T13:46:42.361076Z"
    }
   },
   "id": "d5347d503fef123f",
   "outputs": [],
   "execution_count": 3
  },
  {
   "cell_type": "code",
   "source": [
    "#!!!!!!!!!!!!!!!!!!!!!!!!!!!!!!!!!!! 在 jupyter 中执行有问题, 要在py文件中执行\n",
    "import time\n",
    "\n",
    "from PyQt5.QtWidgets import QApplication\n",
    "from PyQt5.QtGui import QImage\n",
    "import win32gui\n",
    "import sys\n",
    "import numpy as np\n",
    "from matplotlib import pyplot\n",
    "\n",
    "# 未用到, 但要有, 这行大概执行100ms, 可以放在截图函数外部\n",
    "app = QApplication(sys.argv)\n",
    "\n",
    "def test_pyqt():\n",
    "\n",
    "    # 获取窗口的句柄，注意窗口不能最小化\n",
    "    hwnd = win32gui.FindWindow(None, '守望先锋')\n",
    "\n",
    "    screen = app.primaryScreen()\n",
    "    qimage = screen.grabWindow(hwnd).toImage()\n",
    "\n",
    "    qimage = qimage.convertToFormat(QImage.Format.Format_RGB888)\n",
    "    width = qimage.width()\n",
    "    height = qimage.height()\n",
    "\n",
    "    buffer = qimage.constBits()\n",
    "    buffer.setsize(height * width * 3)\n",
    "    arr = np.frombuffer(buffer, dtype=np.uint8).reshape((height, width, 3))\n",
    "    pyplot.imshow(arr)\n",
    "    pyplot.show()\n",
    "\n",
    "\n",
    "t1 = time.time()\n",
    "test_pyqt()\n",
    "print(time.time() - t1)\n",
    "\n",
    "#!!!!!!!!!!!!!!!!!!!!!!!!!!!!!!!!!!! 在 jupyter 中执行有问题, 要在py文件中执行"
   ],
   "metadata": {
    "collapsed": false,
    "ExecuteTime": {
     "end_time": "2024-05-13T13:46:43.613770Z",
     "start_time": "2024-05-13T13:46:42.371597Z"
    }
   },
   "id": "73955d6df49d346d",
   "outputs": [
    {
     "data": {
      "text/plain": [
       "<Figure size 640x480 with 1 Axes>"
      ],
      "image/png": "[encoded data removed]"
     },
     "metadata": {},
     "output_type": "display_data"
    },
    {
     "name": "stdout",
     "output_type": "stream",
     "text": [
      "0.16594648361206055\n"
     ]
    }
   ],
   "execution_count": 4
  },
  {
   "cell_type": "code",
   "source": [
    "import time\n",
    "\n",
    "import win32gui, win32ui, win32con\n",
    "import cv2\n",
    "import numpy\n",
    "\n",
    "\n",
    "def test_win32_screenshot():\n",
    "    # 获取窗口的句柄，注意窗口不能最小化\n",
    "    hWnd = win32gui.FindWindow(None, \"守望先锋\")\n",
    "    # 获取句柄窗口的大小信息\n",
    "    left, top, right, bot = win32gui.GetWindowRect(hWnd)\n",
    "    width = right - left\n",
    "    height = bot - top\n",
    "    # 返回句柄窗口的设备环境，覆盖整个窗口，包括非客户区，标题栏，菜单，边框\n",
    "    hWndDC = win32gui.GetWindowDC(hWnd)\n",
    "    # 创建设备描述表\n",
    "    mfcDC = win32ui.CreateDCFromHandle(hWndDC)\n",
    "    # 创建内存设备描述表\n",
    "    saveDC = mfcDC.CreateCompatibleDC()\n",
    "    # 创建位图对象准备保存图片\n",
    "    saveBitMap = win32ui.CreateBitmap()\n",
    "    # 为bitmap开辟存储空间\n",
    "    saveBitMap.CreateCompatibleBitmap(mfcDC, width, height)\n",
    "    # 将截图保存到saveBitMap中\n",
    "    saveDC.SelectObject(saveBitMap)\n",
    "    # 保存bitmap到内存设备描述表\n",
    "    saveDC.BitBlt((0, 0), (width, height), mfcDC, (0, 0), win32con.SRCCOPY)\n",
    "\n",
    "    signedIntsArray = saveBitMap.GetBitmapBits(True)\n",
    "\n",
    "    # 内存释放\n",
    "    win32gui.DeleteObject(saveBitMap.GetHandle())\n",
    "    saveDC.DeleteDC()\n",
    "    mfcDC.DeleteDC()\n",
    "    win32gui.ReleaseDC(hWnd, hWndDC)\n",
    "\n",
    "    im_opencv = numpy.frombuffer(signedIntsArray, dtype='uint8')\n",
    "\n",
    "    im_opencv.shape = (height, width, 4)\n",
    "    cv2.cvtColor(im_opencv, cv2.COLOR_BGRA2RGB)\n",
    "\n",
    "    # # cv2.imwrite(\"im_opencv.jpg\", im_opencv, [int(cv2.IMWRITE_JPEG_QUALITY), 100])  # 保存\n",
    "    cv2.namedWindow('im_opencv')  # 命名窗口\n",
    "    cv2.imshow(\"im_opencv\", im_opencv)  # 显示\n",
    "    cv2.waitKey(0)\n",
    "    cv2.destroyAllWindows()\n",
    "\n",
    "\n",
    "t1 = time.time()\n",
    "test_win32_screenshot()\n",
    "print(time.time() - t1)\n"
   ],
   "metadata": {
    "collapsed": false,
    "ExecuteTime": {
     "end_time": "2024-05-13T13:46:57.150549Z",
     "start_time": "2024-05-13T13:46:43.616765Z"
    }
   },
   "id": "5b86faa2bf6413e5",
   "outputs": [
    {
     "name": "stdout",
     "output_type": "stream",
     "text": [
      "13.410051107406616\n"
     ]
    }
   ],
   "execution_count": 5
  },
  {
   "metadata": {},
   "cell_type": "code",
   "outputs": [],
   "execution_count": null,
   "source": "",
   "id": "a90f46b11441ee29"
  }
 ],
 "metadata": {
  "kernelspec": {
   "display_name": "Python 3",
   "language": "python",
   "name": "python3"
  },
  "language_info": {
   "codemirror_mode": {
    "name": "ipython",
    "version": 2
   },
   "file_extension": ".py",
   "mimetype": "text/x-python",
   "name": "python",
   "nbconvert_exporter": "python",
   "pygments_lexer": "ipython2",
   "version": "2.7.6"
  }
 },
 "nbformat": 4,
 "nbformat_minor": 5
}
