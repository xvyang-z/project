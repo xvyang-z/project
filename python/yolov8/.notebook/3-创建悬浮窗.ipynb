{
 "cells": [
  {
   "cell_type": "code",
   "id": "initial_id",
   "metadata": {
    "collapsed": true,
    "is_executing": true,
    "ExecuteTime": {
     "start_time": "2024-05-10T14:24:27.186275Z"
    }
   },
   "source": [
    "import random\n",
    "import sys\n",
    "\n",
    "from PyQt5.QtWidgets import QApplication, QWidget, QLabel\n",
    "from PyQt5.QtCore import Qt, QObject\n",
    "from PyQt5.QtCore import pyqtSignal\n",
    "\n",
    "\n",
    "class Bus(QObject):\n",
    "    detect = pyqtSignal()  # 信号必须作为一个类属性, 不能直接写在外部作为全局变量\n",
    "\n",
    "\n",
    "bus = Bus()\n",
    "\n",
    "\n",
    "class MyWindow(QWidget):\n",
    "    def __init__(self):\n",
    "        super().__init__()\n",
    "        self.setWindowFlags(Qt.FramelessWindowHint | Qt.WindowStaysOnTopHint)\n",
    "        self.setAttribute(Qt.WA_TranslucentBackground)  # 透明背景\n",
    "        self.setGeometry(0, 0, QApplication.desktop().width(), QApplication.desktop().height())  # 设置窗口为全屏的大小\n",
    "\n",
    "        self.label = QLabel('+', self)\n",
    "        self.label.setAlignment(Qt.AlignmentFlag.AlignCenter)\n",
    "        self.label.setGeometry(0, 0, 100, 100)\n",
    "        self.label.setStyleSheet('background-color: rgba(0, 0, 0, 50); color: red; border: 2px solid red;')\n",
    "\n",
    "        bus.detect.connect(self.update_position)\n",
    "\n",
    "    def update_position(self):\n",
    "        new_width = random.randint(0, 1920)\n",
    "        new_height = random.randint(0, 1080)\n",
    "        self.label.resize(new_width, new_height)\n",
    "\n",
    "        self.label.move(random.randint(0, self.width() - self.label.width()),\n",
    "                        random.randint(0, self.height() - self.label.height()))\n",
    "\n",
    "    def mousePressEvent(self, event):\n",
    "        bus.detect.emit()\n",
    "\n",
    "\n",
    "if __name__ == '__main__':\n",
    "    app = QApplication(sys.argv)\n",
    "    window = MyWindow()\n",
    "    window.show()\n",
    "\n",
    "    sys.exit(app.exec())\n"
   ],
   "outputs": [],
   "execution_count": null
  }
 ],
 "metadata": {
  "kernelspec": {
   "display_name": "Python 3",
   "language": "python",
   "name": "python3"
  },
  "language_info": {
   "codemirror_mode": {
    "name": "ipython",
    "version": 2
   },
   "file_extension": ".py",
   "mimetype": "text/x-python",
   "name": "python",
   "nbconvert_exporter": "python",
   "pygments_lexer": "ipython2",
   "version": "2.7.6"
  }
 },
 "nbformat": 4,
 "nbformat_minor": 5
}
